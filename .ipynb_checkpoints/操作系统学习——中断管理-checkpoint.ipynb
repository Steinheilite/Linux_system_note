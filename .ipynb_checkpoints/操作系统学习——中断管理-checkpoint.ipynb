{
 "cells": [
  {
   "cell_type": "code",
   "execution_count": null,
   "metadata": {},
   "outputs": [],
   "source": []
  },
  {
   "cell_type": "markdown",
   "metadata": {},
   "source": [
    "#### 操作系统的功能\n",
    "操作系统的功能主要有九种：\n",
    "- System initiation 在系统启动并且初始化的时候将对应的操作系统内容装载进内存\n",
    "- 管理内存、进程\n",
    "- ***中断管理（interupt）***\n",
    "- 定时器（一种特殊的中断，CPU会将时间分割成十毫秒的时钟切片，当每个切片处理完之后也会触发中断）\n",
    "- 文件接口\n",
    "- 驱动管理\n",
    "- 进程通信\n",
    "- 网络通信\n",
    "\n",
    "## 何为中断\n",
    "它帮助操作系统通过切换各种不同的任务来同时处理许多程序。它的存在意味着现代操作系统可以在不延迟用户活动的方式执行许多不同的任务。\n",
    "\n",
    "## 中断来源和优先级\n",
    "中断有许多来源和优先级（中断号）从高到低依次是：\n",
    "- 虚拟机  ：-1\n",
    "- 异常    ：0-31 不可屏蔽\n",
    "- 软中断  ：32-255 （239为时钟中断， 251-255为处理器间中断\n",
    "- 系统调用：128\n",
    "- 用户进程 \n",
    "\n",
    "**注意，虚拟机拥有最高的中断优先级，这样它才可以达到截取所有的数据来控制计算机。**\n",
    "\n",
    "## 中断过程中究竟发生了什么\n",
    "中断的处理过程有以下几步构成：\n",
    "1. 关闭中断，CPU处理中断时为了防止重复中断造成的信息丢失，并步、竞态的相关问题。通常关闭中断，直到关键信息处理完成。\n",
    "2. 存储中断上下文：通常情况下断点上下文被存储在进程的内核栈之中，通常情况保存当前地址但是如果中断是异常则需要分开讨论：\n",
    "     - fault 可纠正异常，保存当前地址\n",
    "     - trap 类似（system pause） 继续\n",
    "     - abort 强制终止\n",
    "3. 跳转至中断向量表。根据中断号找到相应处理程序的地址\n",
    "4. 执行中断程序（此时中断重新开启，可以响应更高级别的中断\n",
    "5. 中断处理结束，中断地址弹回寄存器，返回主程序\n",
    "\n",
    "## 中断与内存空间\n",
    "\n",
    "**mmstructure 进程空间描述，位于用户空间**\n",
    "- signal structure 存储信号\n",
    "- file structure 文件描述\n",
    "- thread 线程信息结构（一般放在栈底\n",
    "**内核栈，位于内核每个进程都有属于自己的内核栈**\n",
    "- PCB\n",
    "- 栈（负责储存这个进程的中断上下文）\n",
    "    - Pstread\n",
    "    - 线程\n",
    "**CPU中断栈（每个CPU一个，存储CPU数据，进程代码位置，和CPU寄存器）**\n",
    "- 系统中断，异常中断在这里处理\n",
    "**软中断栈（每个cpu一个 类似内核线程**\n",
    "- 专门用于处理软中断"
   ]
  },
  {
   "cell_type": "markdown",
   "metadata": {},
   "source": []
  }
 ],
 "metadata": {
  "kernelspec": {
   "display_name": "Python 3",
   "language": "python",
   "name": "python3"
  },
  "language_info": {
   "codemirror_mode": {
    "name": "ipython",
    "version": 3
   },
   "file_extension": ".py",
   "mimetype": "text/x-python",
   "name": "python",
   "nbconvert_exporter": "python",
   "pygments_lexer": "ipython3",
   "version": "3.7.4"
  }
 },
 "nbformat": 4,
 "nbformat_minor": 4
}
