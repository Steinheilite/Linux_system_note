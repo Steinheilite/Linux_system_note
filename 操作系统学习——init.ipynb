{
 "cells": [
  {
   "cell_type": "code",
   "execution_count": null,
   "metadata": {},
   "outputs": [],
   "source": [
    "操作系统学习——开机"
   ]
  },
  {
   "cell_type": "markdown",
   "metadata": {},
   "source": [
    "#### 操作系统的功能\n",
    "操作系统的功能主要有九种：\n",
    "- ***System initiation 在系统启动并且初始化的时候将对应的操作系统内容装载进内存***\n",
    "- 管理内存、进程\n",
    "- 中断管理（interupt）\n",
    "- 定时器（一种特殊的中断，CPU会将时间分割成十毫秒的时钟切片，当每个切片处理完之后也会触发中断）\n",
    "- 文件接口\n",
    "- 驱动管理\n",
    "- 进程通信\n",
    "- 网络通信"
   ]
  },
  {
   "cell_type": "markdown",
   "metadata": {},
   "source": [
    "### Linux 开机启动流程\n",
    "开机 \n",
    "Bios 从0FFFF：0000H开始执行\n",
    "跳转到Boot ROM 里面的BootBlock_Post 并且开始自检（POST）\n",
    "- 初始化寄存器\n",
    "- 键盘控制器\n",
    "- 中断向量表（处于内存最高位地址）\n",
    "- VGA bios 控制器（此时电脑可以显示制造商的logo和公司名称\n",
    "- 扫描并读取启动顺序配置\n",
    "- 跳转并启动自举（中断INT19）\n",
    "自举，读取操作系统启动引导记录并使用boot loader将操作系统装载进系统内存"
   ]
  },
  {
   "cell_type": "markdown",
   "metadata": {},
   "source": [
    "\n",
    "1，\t按下电源键，主板开始给CPU供电，待电源稳定之后，CPU把CS寄存器的值设为0xFFFF，IP寄存的值设为0x0000，CS是代码段寄存器，IP为指令指针寄存器，他们一起合作指向了CPU当前要读取的指令地址，可以理解为CS和IP结合，组成了PC寄存器。PC是程序指针寄存器Program Counter Register\n",
    "任何时刻，8086CPU都会将CS:IP指向的指令作为下一条需要取出的执行指令。\n",
    "8086CPU中的计算公式为 (CS << 4)|IP, 即CS左移4位，然后再加上IP\n",
    "意味着CPU要执行0xFFFF0处的指令，0xFFFF0位于ROM中，所以有数据\n",
    "\n",
    "2，FFFF0H的数据一般是一条jmp指令，用以跳转到BIOS在ROM中真正的位置处。\\\n",
    "\n",
    "3，BIOS要做的事情是加电自检(POST)，就是我们常见的开机启动后，系统自检的画面。到这里，实际上电脑已经启动起来了。\n",
    "\n",
    "4，在完成系统检查之后，BIOS会把系统的管理权交给下一阶段的设备中存放的程序。\n",
    "\n",
    "5, 在BIOS中，会有一个设备启动的顺序，如硬盘，U盘或者光盘，BIOS会依次读取这些设备的第一个扇区(前512字节)到内存0x7C00，并检查其最后两个字节是否为0x55,0xaa，如果是，则从0x7c00处执行，如果不是，则检查下一个启动设备。\n",
    "\n",
    "启动设备的第一个512byte的扇区我们称之为MBR(主引导记录)，包含调用系统的代码，设备的分区表和2字节的签名(0x55,0xaa)，MBR的作用是把操作系统自己的引导程序（bootloader）读入内存，然后跳转到操作系统的引导程序，操作系统引导程序加载操作系统，并把CPU设置为保护模式，系统就启动完成了。\n"
   ]
  },
  {
   "cell_type": "markdown",
   "metadata": {},
   "source": [
    "![Image](booting_time_line.png)"
   ]
  },
  {
   "cell_type": "code",
   "execution_count": null,
   "metadata": {},
   "outputs": [],
   "source": []
  }
 ],
 "metadata": {
  "kernelspec": {
   "display_name": "Python 3",
   "language": "python",
   "name": "python3"
  },
  "language_info": {
   "codemirror_mode": {
    "name": "ipython",
    "version": 3
   },
   "file_extension": ".py",
   "mimetype": "text/x-python",
   "name": "python",
   "nbconvert_exporter": "python",
   "pygments_lexer": "ipython3",
   "version": "3.7.4"
  }
 },
 "nbformat": 4,
 "nbformat_minor": 4
}
