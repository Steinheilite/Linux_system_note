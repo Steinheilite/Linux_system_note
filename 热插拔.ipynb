{
 "cells": [
  {
   "cell_type": "markdown",
   "metadata": {},
   "source": [
    "子系统（kset)\n",
    "面向对象思想\n",
    "块设备是一个子系统 **和历史原因有关。以前的linux必须有block设备所以导致块设备被单独列在外面**\n",
    "USB是子系统\n",
    "不同的总线属于不同子系统\n",
    "子系统的管理不是一个维度，很多地方是双向链表。子系统方便在复杂的指向关系里面找到正确的文件、函数\n",
    "\n",
    "总线是一个子系统，它对应一个叫bus type 的结构体 \n",
    "两个kset  \n",
    "两个函数\n",
    "\n",
    "\n",
    "struct bus_type{\n",
    "\n",
    "struct subsystem sybsis \n",
    "struct kset drivers; 驱动集合\n",
    "struct kset devices; 设备集合\n",
    "int (*match)\n",
    "int(*hotplug)\n",
    "\n",
    "\n",
    "\n",
    "\n",
    "\n",
    "match和hotplug与热插拔密切相关\n",
    "\n",
    "总线控制器探测设备结构体,然后加入设备和驱动集合\n",
    "每个驱动调用总线下的match函数.match函数比对设备和驱动. 对读写地址扫描，当由新设备时候把device\n",
    "把driver中的驱动指针指向这个设备的驱动, 然后调用device driver当中的probe 函数探测设备和驱动. 如果没有找到就调用上一层的probe函数(object所属上一层的probe, 比如pci总线的probe) \n",
    "\n",
    "probe 函数:\n",
    "到sysfs里面的设备节点上建立符号链接. 使用户知道具体哪个设备被绑定到了哪个驱动上面.\n",
    "\n",
    "如果一个probe不能处理设备,将会发送一个负数.那么系统会到上一层匹配并匹配设备,能正常操作就把驱动放到设备链表里面.生成文件节点和符号链接.\n",
    "\n",
    "hotplug:\n",
    "热插拔的创建一般是由总线来操作(总线里的hot plug)\n",
    "热插拔事件,是由内核发送到用户的一个通知,表明系统配置发生变化包含一些参数(子系统,环境).这个通知会导致/sbin/hotplug 程序被调用.这个程序通过加载驱动程序,创建设备节点, 或者其它操作来响应事件\n",
    "这个通知可以用各种机制，比如socket\n",
    "\n",
    "现在hotplug 已经退出历史舞台，uDEV 是目前更常见的用法。\n",
    "\n",
    "\n",
    "kset 是一个结构体,是一组kobject的集合\n",
    " kobject 包含三个指针\n",
    "     指向它的kset\n",
    "     下一个kobject \n",
    "     父对象\n",
    "     \n",
    "USB设备\n",
    "有多个接口(end point),\n",
    "每个接口至少有控制端口和信息端口\n"
   ]
  }
 ],
 "metadata": {
  "kernelspec": {
   "display_name": "Python 3",
   "language": "python",
   "name": "python3"
  },
  "language_info": {
   "codemirror_mode": {
    "name": "ipython",
    "version": 3
   },
   "file_extension": ".py",
   "mimetype": "text/x-python",
   "name": "python",
   "nbconvert_exporter": "python",
   "pygments_lexer": "ipython3",
   "version": "3.7.4"
  }
 },
 "nbformat": 4,
 "nbformat_minor": 4
}
