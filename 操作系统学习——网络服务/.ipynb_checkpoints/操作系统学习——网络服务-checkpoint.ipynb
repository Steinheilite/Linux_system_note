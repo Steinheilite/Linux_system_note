{
 "cells": [
  {
   "cell_type": "markdown",
   "metadata": {},
   "source": [
    "#### 操作系统的功能\n",
    "操作系统的功能主要有九种：\n",
    "- System initiation 在系统启动并且初始化的时候将对应的操作系统内容装载进内存\n",
    "- 管理内存、进程\n",
    "- 中断管理（interupt）\n",
    "- 定时器（一种特殊的中断，CPU会将时间分割成十毫秒的时钟切片，当每个切片处理完之后也会触发中断）\n",
    "- 文件接口\n",
    "- 驱动管理\n",
    "- 进程通信\n",
    "- ***网络通信***\n",
    "\n",
    "![](Internet1.jpg)\n",
    "![Image](Internet1.1.jpg)\n",
    "![Image](tcp_ip.png)"
   ]
  },
  {
   "cell_type": "markdown",
   "metadata": {},
   "source": [
    "![Image](Internet2.0.jpg)\n",
    "![Image](Internet2.1.jpg)\n",
    "![Image](Internet2.2.jpg)\n",
    "![Image](Internet2.3.jpg)\n",
    "![Image](Internet2.4.jpg)\n",
    "![Image](Internet2.5.jpg)\n",
    "![Image](Internet2.6.jpg)"
   ]
  },
  {
   "cell_type": "code",
   "execution_count": null,
   "metadata": {},
   "outputs": [],
   "source": []
  }
 ],
 "metadata": {
  "kernelspec": {
   "display_name": "Python 3",
   "language": "python",
   "name": "python3"
  },
  "language_info": {
   "codemirror_mode": {
    "name": "ipython",
    "version": 3
   },
   "file_extension": ".py",
   "mimetype": "text/x-python",
   "name": "python",
   "nbconvert_exporter": "python",
   "pygments_lexer": "ipython3",
   "version": "3.7.4"
  }
 },
 "nbformat": 4,
 "nbformat_minor": 4
}
